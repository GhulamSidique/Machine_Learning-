{
 "cells": [
  {
   "cell_type": "markdown",
   "metadata": {},
   "source": [
    "### Classification is a supervised machine learning method where the model tries to predict the correct label or category of a given input data. Classification can be either binary or multi-class, depending on the number of possible labels. Classification is used for various problems such as speech recognition, face detection, handwriting recognition, document classification, etc.\n",
    "### examples are spam classifictaion in mails, spliting docs based on the type of the doc, animal classifications etc"
   ]
  },
  {
   "cell_type": "markdown",
   "metadata": {},
   "source": [
    "## Types based linear model\n",
    "### 1) Logistic regression\n",
    "### 2) SVM\n",
    "## Types based on non_linear models\n",
    "### 1) KNN\n",
    "### 2) SVM \n",
    "### 3) Naive bayes\n",
    "### 4) Decision tree\n",
    "### 5) Random forest "
   ]
  },
  {
   "cell_type": "code",
   "execution_count": null,
   "metadata": {},
   "outputs": [],
   "source": []
  }
 ],
 "metadata": {
  "language_info": {
   "name": "python"
  }
 },
 "nbformat": 4,
 "nbformat_minor": 2
}
